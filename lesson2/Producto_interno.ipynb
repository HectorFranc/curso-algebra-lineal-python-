{
 "cells": [
  {
   "cell_type": "code",
   "execution_count": 1,
   "metadata": {},
   "outputs": [],
   "source": [
    "import numpy as np"
   ]
  },
  {
   "cell_type": "code",
   "execution_count": 28,
   "metadata": {},
   "outputs": [],
   "source": [
    "# Variables\n",
    "A = np.array([[1, 2, 3], [4, 5, 6], [7, 8, 9]])\n",
    "B = np.array([10, 20, 30])"
   ]
  },
  {
   "cell_type": "code",
   "execution_count": 29,
   "metadata": {},
   "outputs": [
    {
     "name": "stdout",
     "output_type": "stream",
     "text": [
      "[[ 10  40  90]\n",
      " [ 40 100 180]\n",
      " [ 70 160 270]]\n"
     ]
    }
   ],
   "source": [
    "# [ [A(0, 0)B(0, 0), A(0, 1)B(0, 1), A(0, 2)B(0, 2)], \n",
    "# [A(1, 0)B(0, 0), A(1, 1)B(0, 1), A(1, 2)B(0, 2)], \n",
    "# [A(2, 0)B(0, 0), A(2, 1)B(0, 1), A(2, 2)B(0, 2)] ]\n",
    "print(A * B)"
   ]
  },
  {
   "cell_type": "code",
   "execution_count": 30,
   "metadata": {},
   "outputs": [
    {
     "name": "stdout",
     "output_type": "stream",
     "text": [
      "[140 320 500]\n",
      "[140 320 500]\n"
     ]
    }
   ],
   "source": [
    "# [ A(0, 0)B(0, 0)+A(0, 1)B(0, 1)+A(0, 2)B(0, 2), \n",
    "# A(1, O)B(0, 0)+A(1, 1)B(0, 1)+A(1, 2)B(0, 2), \n",
    "# A(2, 0)B(0, 0)+A(2, 1)B(0, 1)+A(2, 2)B(0, 2) ]\n",
    "print(A.dot(B))\n",
    "print(np.dot(A, B))"
   ]
  },
  {
   "cell_type": "code",
   "execution_count": null,
   "metadata": {},
   "outputs": [],
   "source": []
  }
 ],
 "metadata": {
  "kernelspec": {
   "display_name": "Python 3",
   "language": "python",
   "name": "python3"
  },
  "language_info": {
   "codemirror_mode": {
    "name": "ipython",
    "version": 3
   },
   "file_extension": ".py",
   "mimetype": "text/x-python",
   "name": "python",
   "nbconvert_exporter": "python",
   "pygments_lexer": "ipython3",
   "version": "3.7.5"
  }
 },
 "nbformat": 4,
 "nbformat_minor": 2
}
