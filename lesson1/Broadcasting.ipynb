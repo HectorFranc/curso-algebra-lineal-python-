{
 "cells": [
  {
   "cell_type": "code",
   "execution_count": 1,
   "metadata": {},
   "outputs": [],
   "source": [
    "import numpy as np"
   ]
  },
  {
   "cell_type": "code",
   "execution_count": 6,
   "metadata": {},
   "outputs": [
    {
     "name": "stdout",
     "output_type": "stream",
     "text": [
      "---- Matriz A ----\n",
      " [[ 1  2  3  4  5]\n",
      " [ 6  7  8  9 10]\n",
      " [11 12 13 14 15]\n",
      " [16 17 18 19 20]\n",
      " [21 22 23 24 25]]\n",
      "---- Vector B ----\n",
      " [100 101 102 103 104]\n",
      "---- A + B (broadcasting) ----\n",
      " [[101 103 105 107 109]\n",
      " [106 108 110 112 114]\n",
      " [111 113 115 117 119]\n",
      " [116 118 120 122 124]\n",
      " [121 123 125 127 129]]\n"
     ]
    }
   ],
   "source": [
    "# Variables\n",
    "A = np.array([\n",
    "    [1, 2, 3, 4, 5], \n",
    "    [6, 7, 8, 9, 10], \n",
    "    [11, 12, 13, 14, 15], \n",
    "    [16, 17, 18, 19, 20], \n",
    "    [21, 22, 23, 24, 25]\n",
    "])\n",
    "B = np.array([100, 101, 102, 103, 104])\n",
    "print('---- Matriz A ----\\n', A)\n",
    "print('---- Vector B ----\\n', B)\n",
    "print('---- A + B (broadcasting) ----\\n', A + B)"
   ]
  },
  {
   "cell_type": "code",
   "execution_count": null,
   "metadata": {},
   "outputs": [],
   "source": []
  }
 ],
 "metadata": {
  "kernelspec": {
   "display_name": "Python 3",
   "language": "python",
   "name": "python3"
  },
  "language_info": {
   "codemirror_mode": {
    "name": "ipython",
    "version": 3
   },
   "file_extension": ".py",
   "mimetype": "text/x-python",
   "name": "python",
   "nbconvert_exporter": "python",
   "pygments_lexer": "ipython3",
   "version": "3.7.5"
  }
 },
 "nbformat": 4,
 "nbformat_minor": 2
}
