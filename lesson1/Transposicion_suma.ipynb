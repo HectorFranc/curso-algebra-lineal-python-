{
 "cells": [
  {
   "cell_type": "code",
   "execution_count": 1,
   "metadata": {},
   "outputs": [],
   "source": [
    "import numpy as np"
   ]
  },
  {
   "cell_type": "code",
   "execution_count": 11,
   "metadata": {},
   "outputs": [],
   "source": [
    "# Variables\n",
    "vector = np.array([1, 2, 3])\n",
    "matriz = np.array([[1, 2], [3, 4], [5, 6]])\n",
    "tensor = np.array([\n",
    "    [[1], [2]],\n",
    "    [[3], [4]],\n",
    "    [[5], [6]]\n",
    "])"
   ]
  },
  {
   "cell_type": "code",
   "execution_count": 26,
   "metadata": {},
   "outputs": [
    {
     "name": "stdout",
     "output_type": "stream",
     "text": [
      "\n",
      "Vector: \n",
      "Size: 3, Shape: (3,)\n",
      "Old:\n",
      " [1 2 3] \n",
      "New:\n",
      " [1 2 3]\n",
      "Vector_t: \n",
      "Size: 3, Shape: (3,)\n",
      "\n",
      "Matriz: \n",
      "Size: 6, Shape: (3, 2)\n",
      "Old:\n",
      " [[1 2]\n",
      " [3 4]\n",
      " [5 6]] \n",
      "New:\n",
      " [[1 3 5]\n",
      " [2 4 6]]\n",
      "Matriz_t: \n",
      "Size: 6, Shape: (2, 3)\n",
      "\n",
      "Tensor: \n",
      "Size: 6, Shape: (3, 2, 1)\n",
      "Old:\n",
      " [[[1]\n",
      "  [2]]\n",
      "\n",
      " [[3]\n",
      "  [4]]\n",
      "\n",
      " [[5]\n",
      "  [6]]] \n",
      "New:\n",
      " [[[1 3 5]\n",
      "  [2 4 6]]]\n",
      "Tensor_t: \n",
      "Size: 6, Shape: (1, 2, 3)\n"
     ]
    }
   ],
   "source": [
    "# A_t = A.T\n",
    "vector_t = vector.T\n",
    "matriz_t = matriz.T\n",
    "tensor_t = tensor.T\n",
    "print(f'\\nVector: \\nSize: {vector.size}, Shape: {vector.shape}')\n",
    "print('Old:\\n', vector, '\\nNew:\\n', vector_t)\n",
    "print(f'Vector_t: \\nSize: {vector_t.size}, Shape: {vector_t.shape}')\n",
    "\n",
    "print(f'\\nMatriz: \\nSize: {matriz.size}, Shape: {matriz.shape}')\n",
    "print('Old:\\n', matriz, '\\nNew:\\n', matriz_t)\n",
    "print(f'Matriz_t: \\nSize: {matriz_t.size}, Shape: {matriz_t.shape}')\n",
    "\n",
    "print(f'\\nTensor: \\nSize: {tensor.size}, Shape: {tensor.shape}')\n",
    "print('Old:\\n', tensor, '\\nNew:\\n', tensor_t)\n",
    "print(f'Tensor_t: \\nSize: {tensor_t.size}, Shape: {tensor_t.shape}')"
   ]
  },
  {
   "cell_type": "code",
   "execution_count": 31,
   "metadata": {},
   "outputs": [
    {
     "name": "stdout",
     "output_type": "stream",
     "text": [
      "---- Matriz A ----\n",
      " [[ 1  2  3  4  5]\n",
      " [ 6  7  8  9 10]\n",
      " [11 12 13 14 15]\n",
      " [16 17 18 19 20]\n",
      " [21 22 23 24 25]]\n",
      "---- Matriz A transpuesta ----\n",
      " [[ 1  6 11 16 21]\n",
      " [ 2  7 12 17 22]\n",
      " [ 3  8 13 18 23]\n",
      " [ 4  9 14 19 24]\n",
      " [ 5 10 15 20 25]]\n",
      "---- A + A_t ----\n",
      " [[ 2  8 14 20 26]\n",
      " [ 8 14 20 26 32]\n",
      " [14 20 26 32 38]\n",
      " [20 26 32 38 44]\n",
      " [26 32 38 44 50]]\n"
     ]
    }
   ],
   "source": [
    "# C = A + B\n",
    "A = np.array([\n",
    "    [1, 2, 3, 4, 5], \n",
    "    [6, 7, 8, 9, 10], \n",
    "    [11, 12, 13, 14, 15], \n",
    "    [16, 17, 18, 19, 20], \n",
    "    [21, 22, 23, 24, 25]\n",
    "])\n",
    "A_t = A.T\n",
    "print('---- Matriz A ----\\n', A)\n",
    "print('---- Matriz A transpuesta ----\\n', A_t)\n",
    "print('---- A + A_t ----\\n', A + A_t)"
   ]
  },
  {
   "cell_type": "code",
   "execution_count": null,
   "metadata": {},
   "outputs": [],
   "source": []
  }
 ],
 "metadata": {
  "kernelspec": {
   "display_name": "Python 3",
   "language": "python",
   "name": "python3"
  },
  "language_info": {
   "codemirror_mode": {
    "name": "ipython",
    "version": 3
   },
   "file_extension": ".py",
   "mimetype": "text/x-python",
   "name": "python",
   "nbconvert_exporter": "python",
   "pygments_lexer": "ipython3",
   "version": "3.7.5"
  }
 },
 "nbformat": 4,
 "nbformat_minor": 2
}
