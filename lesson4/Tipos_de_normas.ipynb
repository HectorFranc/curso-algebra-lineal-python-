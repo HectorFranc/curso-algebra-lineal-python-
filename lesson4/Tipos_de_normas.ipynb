{
 "cells": [
  {
   "cell_type": "code",
   "execution_count": 1,
   "metadata": {},
   "outputs": [],
   "source": [
    "import numpy as np"
   ]
  },
  {
   "cell_type": "code",
   "execution_count": 2,
   "metadata": {},
   "outputs": [],
   "source": [
    "vector = np.array([1, 2, 0, 5, 6, 0])\n",
    "vector2 = np.array([1, -1, 1, -1, -1])\n",
    "vector3 = np.array([3, 4])\n",
    "vector4 = np.array([1, 2, 3, 4, 5])\n",
    "vector5 = np.array([-1, 2, -3, 4, -20, 21, -22])"
   ]
  },
  {
   "cell_type": "code",
   "execution_count": 3,
   "metadata": {},
   "outputs": [
    {
     "name": "stdout",
     "output_type": "stream",
     "text": [
      "4.0\n"
     ]
    }
   ],
   "source": [
    "# Norma L0: Numero de elemnto diferentes a cero -> N = {n|n!=0}\n",
    "print(np.linalg.norm(vector, ord=0))"
   ]
  },
  {
   "cell_type": "code",
   "execution_count": 4,
   "metadata": {},
   "outputs": [
    {
     "name": "stdout",
     "output_type": "stream",
     "text": [
      "5.0\n"
     ]
    }
   ],
   "source": [
    "# Norma L1: Suma de los valores absolutos de los elementos -> sigma(abs(xi))\n",
    "print(np.linalg.norm(vector2, ord=1))"
   ]
  },
  {
   "cell_type": "code",
   "execution_count": 5,
   "metadata": {},
   "outputs": [
    {
     "name": "stdout",
     "output_type": "stream",
     "text": [
      "5.0\n",
      "5.0\n"
     ]
    }
   ],
   "source": [
    "# Norma L2: Distancia euclidiana -> Para vector v1 => sqrt(v1[0]^2+v1[1]^2+...+v[n-1]^2)\n",
    "print(np.linalg.norm(vector3, ord=2))\n",
    "print(np.linalg.norm(vector3)) # Por defecto es ord=2"
   ]
  },
  {
   "cell_type": "code",
   "execution_count": 6,
   "metadata": {},
   "outputs": [
    {
     "name": "stdout",
     "output_type": "stream",
     "text": [
      "55.0\n",
      "55\n"
     ]
    }
   ],
   "source": [
    "# Norma (L2)^2\n",
    "print(np.linalg.norm(vector4)**2) \n",
    "print(vector4.T.dot(vector4)) # Son iguales!!!"
   ]
  },
  {
   "cell_type": "code",
   "execution_count": 7,
   "metadata": {},
   "outputs": [
    {
     "name": "stdout",
     "output_type": "stream",
     "text": [
      "22.0\n"
     ]
    }
   ],
   "source": [
    "#Norma L_infinito: Máximo de los valores absolutos de los elementos => max(abs(vector_elements))\n",
    "print(np.linalg.norm(vector5, ord=np.inf))"
   ]
  },
  {
   "cell_type": "code",
   "execution_count": null,
   "metadata": {},
   "outputs": [],
   "source": []
  },
  {
   "cell_type": "code",
   "execution_count": null,
   "metadata": {},
   "outputs": [],
   "source": []
  }
 ],
 "metadata": {
  "kernelspec": {
   "display_name": "Python 3",
   "language": "python",
   "name": "python3"
  },
  "language_info": {
   "codemirror_mode": {
    "name": "ipython",
    "version": 3
   },
   "file_extension": ".py",
   "mimetype": "text/x-python",
   "name": "python",
   "nbconvert_exporter": "python",
   "pygments_lexer": "ipython3",
   "version": "3.7.5"
  }
 },
 "nbformat": 4,
 "nbformat_minor": 2
}
