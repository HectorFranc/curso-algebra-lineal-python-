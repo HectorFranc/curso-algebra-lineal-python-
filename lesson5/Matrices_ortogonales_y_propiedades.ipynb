{
 "cells": [
  {
   "cell_type": "code",
   "execution_count": 1,
   "metadata": {},
   "outputs": [],
   "source": [
    "import numpy as np"
   ]
  },
  {
   "cell_type": "code",
   "execution_count": 2,
   "metadata": {},
   "outputs": [
    {
     "name": "stdout",
     "output_type": "stream",
     "text": [
      "[[1 0 0]\n",
      " [0 1 0]\n",
      " [0 0 1]]\n"
     ]
    }
   ],
   "source": [
    "matriz = np.array([\n",
    "    [1, 0, 0],\n",
    "    [0, 1, 0],\n",
    "    [0, 0, 1]\n",
    "])\n",
    "print(matriz)"
   ]
  },
  {
   "cell_type": "code",
   "execution_count": 3,
   "metadata": {},
   "outputs": [
    {
     "name": "stdout",
     "output_type": "stream",
     "text": [
      "0\n",
      "0\n",
      "0\n",
      "1.0\n",
      "1.0\n",
      "1.0\n"
     ]
    }
   ],
   "source": [
    "# Matriz ortogonal: Que todos los vectores formados por sus filas son ortonormales y tambien \n",
    "# los vectores formados por sus columnas son ortonormales ->\n",
    "print(matriz[:, 0].dot(matriz[:, 1])) # out: 0 -> columnas ortogonales\n",
    "print(matriz[:, 0].dot(matriz[:, 2])) # out: 0 -> columnas ortogonales\n",
    "print(matriz[:, 1].dot(matriz[:, 2])) # out: 0 -> columnas ortogonales\n",
    "\n",
    "print(np.linalg.norm(matriz[:, 0])) # out: 1 -> columna ortonormal\n",
    "print(np.linalg.norm(matriz[:, 1])) # out: 1 -> columna ortonormal\n",
    "print(np.linalg.norm(matriz[:, 2])) # out: 1 -> columna ortonormal"
   ]
  },
  {
   "cell_type": "code",
   "execution_count": 4,
   "metadata": {},
   "outputs": [
    {
     "name": "stdout",
     "output_type": "stream",
     "text": [
      "0\n",
      "0\n",
      "0\n",
      "1.0\n",
      "1.0\n",
      "1.0\n"
     ]
    }
   ],
   "source": [
    "print(matriz[0].dot(matriz[1])) # out: 0 -> filas ortogonales\n",
    "print(matriz[0].dot(matriz[2])) # out: 0 -> filas ortogonales\n",
    "print(matriz[1].dot(matriz[2])) # out: 0 -> filas ortogonales\n",
    "\n",
    "print(np.linalg.norm(matriz[0])) # out: 1 -> fila ortonormal\n",
    "print(np.linalg.norm(matriz[1])) # out: 1 -> fila ortonormal\n",
    "print(np.linalg.norm(matriz[2])) # out: 1 -> fila ortonormal"
   ]
  },
  {
   "cell_type": "code",
   "execution_count": 5,
   "metadata": {},
   "outputs": [],
   "source": [
    "# Propiedades de matrices ortogonales:\n",
    "# (A)(A.T) = (A.T)(A) = matriz_identidad\n",
    "# A.T = A^-1"
   ]
  },
  {
   "cell_type": "markdown",
   "metadata": {},
   "source": [
    "# Warning\n",
    "La capacidad computacional puede provocar errores al tratar, por ejemplo, números cercanos a cero representando un cero. Ejemplo 1/0 no está definido, pero 1/(1e-18) si lo está (y da algo muy grande, lo que podría aumentar el error)"
   ]
  },
  {
   "cell_type": "code",
   "execution_count": null,
   "metadata": {},
   "outputs": [],
   "source": []
  },
  {
   "cell_type": "code",
   "execution_count": null,
   "metadata": {},
   "outputs": [],
   "source": []
  },
  {
   "cell_type": "code",
   "execution_count": null,
   "metadata": {},
   "outputs": [],
   "source": []
  }
 ],
 "metadata": {
  "kernelspec": {
   "display_name": "Python 3",
   "language": "python",
   "name": "python3"
  },
  "language_info": {
   "codemirror_mode": {
    "name": "ipython",
    "version": 3
   },
   "file_extension": ".py",
   "mimetype": "text/x-python",
   "name": "python",
   "nbconvert_exporter": "python",
   "pygments_lexer": "ipython3",
   "version": "3.7.5"
  }
 },
 "nbformat": 4,
 "nbformat_minor": 2
}
