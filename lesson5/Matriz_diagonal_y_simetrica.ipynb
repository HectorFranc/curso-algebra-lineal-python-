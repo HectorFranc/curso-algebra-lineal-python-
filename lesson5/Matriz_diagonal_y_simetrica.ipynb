{
 "cells": [
  {
   "cell_type": "code",
   "execution_count": 1,
   "metadata": {},
   "outputs": [],
   "source": [
    "import numpy as np"
   ]
  },
  {
   "cell_type": "code",
   "execution_count": 2,
   "metadata": {},
   "outputs": [],
   "source": [
    "# Variables\n",
    "v1 = np.array([2, 3, 4, 5])"
   ]
  },
  {
   "cell_type": "code",
   "execution_count": 3,
   "metadata": {},
   "outputs": [
    {
     "name": "stdout",
     "output_type": "stream",
     "text": [
      "[[2 0 0 0]\n",
      " [0 3 0 0]\n",
      " [0 0 4 0]\n",
      " [0 0 0 5]]\n"
     ]
    }
   ],
   "source": [
    "# Matriz diagonal: matriz con los elementos del vector en la diagonal\n",
    "matriz_diagonal = np.diag(v1)\n",
    "print(matriz_diagonal)"
   ]
  },
  {
   "cell_type": "code",
   "execution_count": 4,
   "metadata": {},
   "outputs": [
    {
     "name": "stdout",
     "output_type": "stream",
     "text": [
      "[[0.5        0.         0.         0.        ]\n",
      " [0.         0.33333333 0.         0.        ]\n",
      " [0.         0.         0.25       0.        ]\n",
      " [0.         0.         0.         0.2       ]]\n"
     ]
    }
   ],
   "source": [
    "# Inversa de la matriz diagonal es la diagonal de los inversos de los elementos con que se construyo\n",
    "print(np.linalg.inv(matriz_diagonal))"
   ]
  },
  {
   "cell_type": "code",
   "execution_count": 5,
   "metadata": {},
   "outputs": [
    {
     "name": "stdout",
     "output_type": "stream",
     "text": [
      "[[0.5        0.         0.         0.        ]\n",
      " [0.         0.33333333 0.         0.        ]\n",
      " [0.         0.         0.25       0.        ]\n",
      " [0.         0.         0.         0.2       ]]\n"
     ]
    }
   ],
   "source": [
    "print(np.diag(1/v1)) # Are equals!!!"
   ]
  },
  {
   "cell_type": "code",
   "execution_count": 6,
   "metadata": {},
   "outputs": [
    {
     "name": "stdout",
     "output_type": "stream",
     "text": [
      "[[  1.    2.    3. ]\n",
      " [  2.  -11.    4. ]\n",
      " [  3.    4.    0.5]]\n"
     ]
    }
   ],
   "source": [
    "# Matriz simetrica => A = A.T\n",
    "matriz = np.array([\n",
    "    [1, 2, 3],\n",
    "    [2, -11, 4],\n",
    "    [3, 4, 0.5]\n",
    "])\n",
    "print(matriz)"
   ]
  },
  {
   "cell_type": "code",
   "execution_count": 7,
   "metadata": {},
   "outputs": [
    {
     "name": "stdout",
     "output_type": "stream",
     "text": [
      "[[  1.    2.    3. ]\n",
      " [  2.  -11.    4. ]\n",
      " [  3.    4.    0.5]]\n"
     ]
    }
   ],
   "source": [
    "print(matriz.T) # Are equals!!!"
   ]
  },
  {
   "cell_type": "code",
   "execution_count": null,
   "metadata": {},
   "outputs": [],
   "source": []
  }
 ],
 "metadata": {
  "kernelspec": {
   "display_name": "Python 3",
   "language": "python",
   "name": "python3"
  },
  "language_info": {
   "codemirror_mode": {
    "name": "ipython",
    "version": 3
   },
   "file_extension": ".py",
   "mimetype": "text/x-python",
   "name": "python",
   "nbconvert_exporter": "python",
   "pygments_lexer": "ipython3",
   "version": "3.7.5"
  }
 },
 "nbformat": 4,
 "nbformat_minor": 2
}
